{
 "cells": [
  {
   "cell_type": "code",
   "execution_count": 2,
   "id": "425eda51-0bc5-49a5-a81e-2442f573355f",
   "metadata": {},
   "outputs": [],
   "source": [
    "import pandas as pd\n",
    "from math import sqrt\n",
    "import numpy as np"
   ]
  },
  {
   "cell_type": "code",
   "execution_count": 34,
   "id": "b5a6d2c9-752a-4804-92cd-9c629ee627fb",
   "metadata": {},
   "outputs": [
    {
     "name": "stdout",
     "output_type": "stream",
     "text": [
      "<class 'pandas.core.frame.DataFrame'>\n",
      "RangeIndex: 1149780 entries, 0 to 1149779\n",
      "Data columns (total 3 columns):\n",
      " #   Column       Non-Null Count    Dtype \n",
      "---  ------       --------------    ----- \n",
      " 0   User-ID      1149780 non-null  int64 \n",
      " 1   ISBN         1149780 non-null  object\n",
      " 2   Book-Rating  1149780 non-null  int64 \n",
      "dtypes: int64(2), object(1)\n",
      "memory usage: 26.3+ MB\n",
      "None\n"
     ]
    }
   ],
   "source": [
    "ratings_df = pd.read_csv('Data/BX-Book-Ratings.csv', sep =';', header=0, encoding='latin-1')\n",
    "books_df = pd.read_csv('Data/BX-Books.csv', sep=';', escapechar='\\\\', header=0, encoding='latin-1')\n",
    "user_df = pd.read_csv('Data/BX-Users.csv', sep =';', header=0, encoding='latin-1')"
   ]
  },
  {
   "cell_type": "code",
   "execution_count": 88,
   "id": "23d4d571-8ca9-44b9-bb61-b151d12d46bc",
   "metadata": {},
   "outputs": [
    {
     "name": "stdout",
     "output_type": "stream",
     "text": [
      "         ISBN Book-Rating\n",
      "0  0971880107           9\n",
      "1  0316666343           6\n",
      "2  0385504209           4\n",
      "3  0060928336           7\n",
      "4  0312195516           5\n"
     ]
    }
   ],
   "source": [
    "userInput = [{'ISBN':'0971880107', 'Book-Rating':'9'},\n",
    "             {'ISBN':'0316666343', 'Book-Rating':'6'},\n",
    "             {'ISBN':'0385504209', 'Book-Rating':'4'},\n",
    "             {'ISBN':'0060928336', 'Book-Rating':'7'},\n",
    "             {'ISBN':'0312195516', 'Book-Rating':'5'}]\n",
    "inputBooks = pd.DataFrame(userInput)\n",
    "print(inputBooks)"
   ]
  },
  {
   "cell_type": "code",
   "execution_count": 89,
   "id": "159eb868-fb14-4787-a472-aa5b8c632977",
   "metadata": {},
   "outputs": [
    {
     "data": {
      "text/plain": [
       "0971880107     2502\n",
       "0316666343     1295\n",
       "0385504209      883\n",
       "0060928336      732\n",
       "0312195516      723\n",
       "               ... \n",
       "1568656386        1\n",
       "1568656408        1\n",
       "1569551553        1\n",
       "1570081808        1\n",
       "05162443314       1\n",
       "Name: ISBN, Length: 340556, dtype: int64"
      ]
     },
     "execution_count": 89,
     "metadata": {},
     "output_type": "execute_result"
    }
   ],
   "source": [
    "ratings_df['ISBN'].value_counts()"
   ]
  },
  {
   "cell_type": "code",
   "execution_count": 90,
   "id": "f2b1dbe5-01ef-43f4-9de4-9ccb6bdd73b2",
   "metadata": {},
   "outputs": [
    {
     "name": "stdout",
     "output_type": "stream",
     "text": [
      "            User-ID  Book-Rating\n",
      "ISBN                            \n",
      "0060928336      732          732\n",
      "0312195516      723          723\n",
      "0316666343     1295         1295\n",
      "0385504209      883          883\n",
      "0971880107     2502         2502\n"
     ]
    }
   ],
   "source": [
    "userSubset = ratings_df[ratings_df['ISBN'].isin(inputBooks['ISBN'].tolist())]\n",
    "print(userSubset.groupby('ISBN').count())"
   ]
  },
  {
   "cell_type": "code",
   "execution_count": 91,
   "id": "2255acc4-a9bc-46f9-8a40-9a88238e4d61",
   "metadata": {},
   "outputs": [
    {
     "name": "stdout",
     "output_type": "stream",
     "text": [
      "[(11676,        User-ID        ISBN  Book-Rating\n",
      "45706    11676  0060928336            0\n",
      "46899    11676  0312195516           10\n",
      "47223    11676  0316666343            5\n",
      "48823    11676  0385504209            9\n",
      "55317    11676  0971880107            6), (16795,        User-ID        ISBN  Book-Rating\n",
      "78071    16795  0060928336            0\n",
      "78381    16795  0312195516            9\n",
      "78485    16795  0316666343           10\n",
      "78991    16795  0385504209           10\n",
      "80759    16795  0971880107            0), (35859,         User-ID        ISBN  Book-Rating\n",
      "157262    35859  0060928336            0\n",
      "157711    35859  0312195516           10\n",
      "157955    35859  0316666343            6\n",
      "158759    35859  0385504209            0\n",
      "162665    35859  0971880107            0), (46398,         User-ID        ISBN  Book-Rating\n",
      "203528    46398  0060928336            0\n",
      "203610    46398  0312195516            0\n",
      "203626    46398  0316666343            6\n",
      "203728    46398  0385504209            0\n",
      "204119    46398  0971880107            4), (52002,         User-ID        ISBN  Book-Rating\n",
      "222333    52002  0060928336            0\n",
      "222343    52002  0312195516           10\n",
      "222349    52002  0316666343           10\n",
      "222375    52002  0385504209           10\n",
      "222435    52002  0971880107            0)]\n"
     ]
    }
   ],
   "source": [
    "userSubsetGroup = userSubset.groupby(['User-ID'])\n",
    "\n",
    "def take_5_elem(x):\n",
    "    return len(x[1])\n",
    "    \n",
    "\n",
    "#Sorting it so users with movie most in common with the input will have priority\n",
    "userSubsetGroup = sorted(userSubsetGroup, key=take_5_elem, reverse=True)\n",
    "\n",
    "userSubsetGroup = userSubsetGroup[0:100]\n",
    "print(userSubsetGroup[0:5])"
   ]
  },
  {
   "cell_type": "code",
   "execution_count": 92,
   "id": "03381528-dc1d-4e84-af23-f5ae5d5512fe",
   "metadata": {},
   "outputs": [],
   "source": [
    "#Store the Pearson Correlation in a dictionary, where the key is the user Id and the value is the coefficient\n",
    "pearsonCorrelationDict = {}\n",
    "\n",
    "#For every user group in our subset\n",
    "for name, group in userSubsetGroup:\n",
    "\n",
    "    #Let's start by sorting the input and current user group so the values aren't mixed up later on\n",
    "    group = group.sort_values(by='ISBN')\n",
    "    inputBooks = inputBooks.sort_values(by='ISBN')\n",
    "\n",
    "    #Get the N for the formula\n",
    "    nRatings = len(group)\n",
    "\n",
    "    #Get the review scores for the movies that they both have in common\n",
    "    temp_df = inputBooks[inputBooks['ISBN'].isin(group['ISBN'].tolist())]\n",
    "\n",
    "    #And then store them in a temporary buffer variable in a list format to facilitate future calculations\n",
    "    tempRatingList = temp_df['Book-Rating'].astype('int').tolist()\n",
    "   \n",
    "    #Let's also put the current user group reviews in a list format\n",
    "    tempGroupList = group['Book-Rating'].tolist()\n",
    "   \n",
    "    \n",
    "    #Now let's calculate the pearson correlation between two users, so called, x and y manually (check the formula from week 7 slide)\n",
    "    Sxx = sum([i**2 for i in tempRatingList]) - pow(sum(tempRatingList),2)/float(nRatings)\n",
    "    Syy = sum([i**2 for i in tempGroupList]) - pow(sum(tempGroupList),2)/float(nRatings)\n",
    "    Sxy = sum( i*j for i, j in zip(tempRatingList, tempGroupList)) - sum(tempRatingList)*sum(tempGroupList)/float(nRatings)\n",
    "\n",
    "    #If the denominator is different than zero, then divide, else, 0 correlation.\n",
    "    if Sxx != 0 and Syy != 0:\n",
    "        pearsonCorrelationDict[name] = Sxy/sqrt(Sxx*Syy)\n",
    "    else:\n",
    "        pearsonCorrelationDict[name] = 0\n",
    "    \n"
   ]
  },
  {
   "cell_type": "code",
   "execution_count": 93,
   "id": "cca9de73-1b2d-49e8-9354-6b543d297a7b",
   "metadata": {},
   "outputs": [
    {
     "name": "stdout",
     "output_type": "stream",
     "text": [
      "   similarityIndex  userId\n",
      "0        -0.528194   11676\n",
      "1        -0.851714   16795\n",
      "2        -0.372602   35859\n",
      "3         0.459509   46398\n",
      "4        -0.854242   52002\n"
     ]
    }
   ],
   "source": [
    "pearsonDF = pd.DataFrame.from_dict(pearsonCorrelationDict, orient='index')\n",
    "pearsonDF.columns = ['similarityIndex']\n",
    "pearsonDF['userId'] = pearsonDF.index\n",
    "pearsonDF.index = range(len(pearsonDF))\n",
    "print(pearsonDF.head())"
   ]
  },
  {
   "cell_type": "code",
   "execution_count": 94,
   "id": "e186edb1-11aa-45ac-b75c-b2a1a72422fd",
   "metadata": {},
   "outputs": [
    {
     "name": "stdout",
     "output_type": "stream",
     "text": [
      "    similarityIndex  userId\n",
      "15         0.894427    8253\n",
      "20         0.878310   37950\n",
      "42         0.800641  167800\n",
      "22         0.774597   40889\n",
      "52         0.715626  204864\n"
     ]
    }
   ],
   "source": [
    "topUsers=pearsonDF.sort_values(by='similarityIndex', ascending=False)[0:100]\n",
    "print(topUsers.head())"
   ]
  },
  {
   "cell_type": "code",
   "execution_count": 95,
   "id": "a83a2ae8-8fc1-4c9c-a733-c74603ea5f7d",
   "metadata": {},
   "outputs": [
    {
     "name": "stdout",
     "output_type": "stream",
     "text": [
      "    similarityIndex  userId  User-ID        ISBN  Book-Rating\n",
      "0          0.894427    8253     8253  0030119502            0\n",
      "1          0.894427    8253     8253  0060391626            9\n",
      "2          0.894427    8253     8253  0060912529            0\n",
      "3          0.894427    8253     8253  0060915544            9\n",
      "4          0.894427    8253     8253  0060922532            0\n",
      "..              ...     ...      ...         ...          ...\n",
      "95         0.894427    8253     8253  0440127793            9\n",
      "96         0.894427    8253     8253  0440156998            0\n",
      "97         0.894427    8253     8253  0440167361           10\n",
      "98         0.894427    8253     8253  0440211263            0\n",
      "99         0.894427    8253     8253  044021145X            9\n",
      "\n",
      "[100 rows x 5 columns]\n"
     ]
    }
   ],
   "source": [
    "topUsersRating=topUsers.merge(ratings_df, left_on='userId', right_on='User-ID', how='inner')\n",
    "print(topUsersRating.head(100))"
   ]
  },
  {
   "cell_type": "code",
   "execution_count": 96,
   "id": "f7452fca-22ed-4f98-b3cc-2f8948de6212",
   "metadata": {},
   "outputs": [
    {
     "name": "stdout",
     "output_type": "stream",
     "text": [
      "   similarityIndex  userId  User-ID        ISBN  Book-Rating  weightedRating\n",
      "0         0.894427    8253     8253  0030119502            0        0.000000\n",
      "1         0.894427    8253     8253  0060391626            9        8.049845\n",
      "2         0.894427    8253     8253  0060912529            0        0.000000\n",
      "3         0.894427    8253     8253  0060915544            9        8.049845\n",
      "4         0.894427    8253     8253  0060922532            0        0.000000\n"
     ]
    }
   ],
   "source": [
    "#Multiplies the similarity by the user’s ratings\n",
    "topUsersRating['weightedRating'] = topUsersRating['similarityIndex']*topUsersRating['Book-Rating']\n",
    "print(topUsersRating.head())"
   ]
  },
  {
   "cell_type": "code",
   "execution_count": 97,
   "id": "3e70fe2a-e3a3-493e-96da-041004c8d3ae",
   "metadata": {},
   "outputs": [
    {
     "name": "stdout",
     "output_type": "stream",
     "text": [
      "               sum_similarityIndex  sum_weightedRating\n",
      "ISBN                                                  \n",
      " 0375404120              -0.058124            0.000000\n",
      " 9022906116              -0.528194           -3.697356\n",
      "0 7336 1053 6            -0.528194            0.000000\n",
      "0000000000               -0.528194           -4.753744\n",
      "00000000000              -0.528194           -4.225550\n"
     ]
    }
   ],
   "source": [
    "#Applies a sum to the topUsers after grouping it up by ISBN\n",
    "tempTopUsersRating = topUsersRating.groupby('ISBN').sum()[['similarityIndex','weightedRating']]\n",
    "tempTopUsersRating.columns = ['sum_similarityIndex','sum_weightedRating']\n",
    "print(tempTopUsersRating.head())"
   ]
  },
  {
   "cell_type": "code",
   "execution_count": 98,
   "id": "2a53d3f6-8de9-451e-92d0-6df309bdd0aa",
   "metadata": {},
   "outputs": [
    {
     "name": "stdout",
     "output_type": "stream",
     "text": [
      "               weighted average recommendation score           ISBN\n",
      "ISBN                                                               \n",
      " 0375404120                                     -0.0     0375404120\n",
      " 9022906116                                      7.0     9022906116\n",
      "0 7336 1053 6                                   -0.0  0 7336 1053 6\n",
      "0000000000                                       9.0     0000000000\n",
      "00000000000                                      8.0    00000000000\n",
      "0000001042283                                    NaN  0000001042283\n",
      "0001047868                                       NaN     0001047868\n",
      "0001055666                                       9.0     0001055666\n",
      "0001056107                                       8.0     0001056107\n",
      "0001714600                                       0.0     0001714600\n"
     ]
    }
   ],
   "source": [
    "#Creates an empty dataframe\n",
    "recommendation_df = pd.DataFrame()\n",
    "\n",
    "#Weighted average\n",
    "recommendation_df['weighted average recommendation score'] = tempTopUsersRating['sum_weightedRating']/tempTopUsersRating['sum_similarityIndex']\n",
    "recommendation_df['ISBN'] = tempTopUsersRating.index\n",
    "print(recommendation_df.head(10))"
   ]
  },
  {
   "cell_type": "code",
   "execution_count": 102,
   "id": "a8d8bca5-2371-4201-b2be-b7919b7ec92d",
   "metadata": {},
   "outputs": [
    {
     "name": "stdout",
     "output_type": "stream",
     "text": [
      "            weighted average recommendation score        ISBN\n",
      "ISBN                                                         \n",
      "0590503235                                    inf  0590503235\n",
      "0061020699                            7851.169150  0061020699\n",
      "0061093343                            1599.193807  0061093343\n",
      "1896860982                             873.886957  1896860982\n",
      "0671729462                             586.549246  0671729462\n",
      "0394800184                             375.145733  0394800184\n",
      "0843104287                             332.972725  0843104287\n",
      "0375506128                             324.327989  0375506128\n",
      "0679456945                             288.291546  0679456945\n",
      "0671729403                             288.274623  0671729403\n"
     ]
    }
   ],
   "source": [
    "recommendation_df = recommendation_df.sort_values(by='weighted average recommendation score', ascending=False)\n",
    "print(recommendation_df.head(10))"
   ]
  },
  {
   "cell_type": "code",
   "execution_count": 104,
   "id": "5cb88d09-5958-45e8-887e-6b97085688d4",
   "metadata": {},
   "outputs": [
    {
     "name": "stdout",
     "output_type": "stream",
     "text": [
      "          ISBN                                         Book-Title  \\\n",
      "1   0002005018                                       Clara Callan   \n",
      "3   0374157065  Flu: The Story of the Great Influenza Pandemic...   \n",
      "5   0399135782                             The Kitchen God's Wife   \n",
      "7   0671870432                                    PLEADING GUILTY   \n",
      "10  0771074670                        Nights Below Station Street   \n",
      "\n",
      "             Book-Author  Year-Of-Publication              Publisher  \\\n",
      "1   Richard Bruce Wright                 2001  HarperFlamingo Canada   \n",
      "3       Gina Bari Kolata                 1999   Farrar Straus Giroux   \n",
      "5                Amy Tan                 1991       Putnam Pub Group   \n",
      "7            Scott Turow                 1993             Audioworks   \n",
      "10  David Adams Richards                 1988        Emblem Editions   \n",
      "\n",
      "                                          Image-URL-S  \\\n",
      "1   http://images.amazon.com/images/P/0002005018.0...   \n",
      "3   http://images.amazon.com/images/P/0374157065.0...   \n",
      "5   http://images.amazon.com/images/P/0399135782.0...   \n",
      "7   http://images.amazon.com/images/P/0671870432.0...   \n",
      "10  http://images.amazon.com/images/P/0771074670.0...   \n",
      "\n",
      "                                          Image-URL-M  \\\n",
      "1   http://images.amazon.com/images/P/0002005018.0...   \n",
      "3   http://images.amazon.com/images/P/0374157065.0...   \n",
      "5   http://images.amazon.com/images/P/0399135782.0...   \n",
      "7   http://images.amazon.com/images/P/0671870432.0...   \n",
      "10  http://images.amazon.com/images/P/0771074670.0...   \n",
      "\n",
      "                                          Image-URL-L  \n",
      "1   http://images.amazon.com/images/P/0002005018.0...  \n",
      "3   http://images.amazon.com/images/P/0374157065.0...  \n",
      "5   http://images.amazon.com/images/P/0399135782.0...  \n",
      "7   http://images.amazon.com/images/P/0671870432.0...  \n",
      "10  http://images.amazon.com/images/P/0771074670.0...  \n"
     ]
    }
   ],
   "source": [
    "recommended_book=books_df.loc[books_df['ISBN'].isin(recommendation_df['ISBN'])]\n",
    "\n",
    "recommended_book=recommended_book.loc[~recommended_book.ISBN.isin(userSubset['ISBN'])]\n",
    "\n",
    "print(recommended_book.head())"
   ]
  }
 ],
 "metadata": {
  "kernelspec": {
   "display_name": "Python 3 (ipykernel)",
   "language": "python",
   "name": "python3"
  },
  "language_info": {
   "codemirror_mode": {
    "name": "ipython",
    "version": 3
   },
   "file_extension": ".py",
   "mimetype": "text/x-python",
   "name": "python",
   "nbconvert_exporter": "python",
   "pygments_lexer": "ipython3",
   "version": "3.9.12"
  }
 },
 "nbformat": 4,
 "nbformat_minor": 5
}
