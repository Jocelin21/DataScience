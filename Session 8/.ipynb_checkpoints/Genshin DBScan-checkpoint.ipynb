{
 "cells": [
  {
   "cell_type": "code",
   "execution_count": 13,
   "id": "1684b99f-3667-4261-aeeb-38f6099c6c23",
   "metadata": {},
   "outputs": [
    {
     "data": {
      "text/plain": [
       "array([[ 1.20041713,  1.72742598],\n",
       "       [ 0.62817563,  0.71791258],\n",
       "       [-0.4549057 , -0.47394179],\n",
       "       [-0.25400204, -0.11262866],\n",
       "       [-0.78262856, -0.68237304],\n",
       "       [-0.23343266, -0.18882544],\n",
       "       [ 0.15607422, -0.51217043],\n",
       "       [-0.27823666, -0.97824834],\n",
       "       [ 0.20157535, -0.59714072],\n",
       "       [-0.09886437, -0.06789254],\n",
       "       [-1.47388294, -1.30358477],\n",
       "       [-1.01077436, -0.88740154],\n",
       "       [-0.66815493, -0.57949867],\n",
       "       [-1.46807791, -1.29836794],\n",
       "       [-1.06892486, -0.93965983],\n",
       "       [-0.12212197, -0.08879352],\n",
       "       [-1.23878891, -1.09231209],\n",
       "       [ 2.47449421,  2.03327056],\n",
       "       [-1.51144859, -1.29647319],\n",
       "       [-1.35702801, -1.19857039],\n",
       "       [ 0.9651036 ,  1.03511917],\n",
       "       [-0.04017177, -0.01514708],\n",
       "       [-0.64315831, -0.47900647],\n",
       "       [-0.04468355, -0.01920169],\n",
       "       [ 1.17640467,  1.23405217],\n",
       "       [-0.31318739, -0.26049888],\n",
       "       [ 2.09868021,  2.10234423],\n",
       "       [ 0.77801764,  0.72013775],\n",
       "       [ 0.03472588,  2.40699188],\n",
       "       [ 1.0175758 ,  1.08452002],\n",
       "       [-0.75433641, -0.58367699],\n",
       "       [ 1.0688783 ,  0.98152641],\n",
       "       [-0.5167604 , -0.360007  ],\n",
       "       [ 0.8902553 ,  0.24640577],\n",
       "       [ 0.00350584, -0.18729862],\n",
       "       [ 1.63968654, -0.08698688]])"
      ]
     },
     "execution_count": 13,
     "metadata": {},
     "output_type": "execute_result"
    }
   ],
   "source": [
    "import numpy as np\n",
    "import pandas as pd\n",
    "from sklearn.cluster import DBSCAN\n",
    "from sklearn import metrics\n",
    "from sklearn.datasets import make_blobs\n",
    "from sklearn.preprocessing import StandardScaler\n",
    "from matplotlib import pyplot as plt\n",
    "\n",
    "df=pd.read_excel(\"Genshin Impact Revenue.xlsx\")\n",
    "df.dropna(inplace=True)\n",
    "\n",
    "X = df[['Avg Revenue/Day','Revenue']]\n",
    "X = StandardScaler().fit_transform(X)\n",
    "X"
   ]
  },
  {
   "cell_type": "code",
   "execution_count": 14,
   "id": "6b1c4e76-1e6e-4a3c-ac6f-b445f37cb163",
   "metadata": {},
   "outputs": [],
   "source": [
    "db = DBSCAN(eps=0.01).fit(X)"
   ]
  },
  {
   "cell_type": "code",
   "execution_count": 15,
   "id": "742d26cc-c390-4d47-b92b-6d1533ef23fb",
   "metadata": {},
   "outputs": [
    {
     "data": {
      "text/plain": [
       "array([-1, -1, -1, -1, -1, -1, -1, -1, -1, -1, -1, -1, -1, -1, -1, -1, -1,\n",
       "       -1, -1, -1, -1, -1, -1, -1, -1, -1, -1, -1, -1, -1, -1, -1, -1, -1,\n",
       "       -1, -1], dtype=int64)"
      ]
     },
     "execution_count": 15,
     "metadata": {},
     "output_type": "execute_result"
    }
   ],
   "source": [
    "db.labels_"
   ]
  },
  {
   "cell_type": "code",
   "execution_count": 16,
   "id": "bfbd4c13-57ba-4752-bd39-d42681d8efd6",
   "metadata": {},
   "outputs": [
    {
     "data": {
      "text/plain": [
       "<matplotlib.collections.PathCollection at 0x1b66580c580>"
      ]
     },
     "execution_count": 16,
     "metadata": {},
     "output_type": "execute_result"
    },
    {
     "data": {
      "image/png": "[encoded data removed]",
      "text/plain": [
       "<Figure size 432x288 with 1 Axes>"
      ]
     },
     "metadata": {
      "needs_background": "light"
     },
     "output_type": "display_data"
    }
   ],
   "source": [
    "plt.scatter(X[:,0],X[:,1],c=db.labels_)"
   ]
  }
 ],
 "metadata": {
  "kernelspec": {
   "display_name": "Python 3 (ipykernel)",
   "language": "python",
   "name": "python3"
  },
  "language_info": {
   "codemirror_mode": {
    "name": "ipython",
    "version": 3
   },
   "file_extension": ".py",
   "mimetype": "text/x-python",
   "name": "python",
   "nbconvert_exporter": "python",
   "pygments_lexer": "ipython3",
   "version": "3.9.12"
  }
 },
 "nbformat": 4,
 "nbformat_minor": 5
}
